{
 "cells": [
  {
   "cell_type": "markdown",
   "metadata": {},
   "source": [
    "# Generalidades acerca del proyecto"
   ]
  },
  {
   "cell_type": "markdown",
   "metadata": {},
   "source": [
    "Este proyecto tiene como finalidad brindar una herramienta de análisis de texto básico de imágenes a partir de presentaciones web y con base a ello generar productos gráficos.  \n",
    "\n",
    "### Funcionamiento:\n",
    "\n",
    "A partir de la url de una presentacion slideshare,se obtinen las imágenes que posteriormente serán tratadas para la  extracción del texto.\n",
    "\n",
    "Una vez sea completada la extracción del texto, se utilizan herramientas de procesamiento de lenguaje natural para \n",
    "generar estadísticas como: Las 10 palabras mas comunes y su respectiva frecuencia,el número total de palabras,an{alisis de sentimientos,entre otras.\n",
    "\n",
    "\n",
    "Posteriormente se realizan representaciones de estos datos númericos.\n",
    "\n",
    "\n"
   ]
  },
  {
   "cell_type": "markdown",
   "metadata": {},
   "source": [
    "# Instalación"
   ]
  },
  {
   "cell_type": "markdown",
   "metadata": {
    "collapsed": true
   },
   "source": [
    "Es importante tener en cuenta que este desarrollo se llevo a cabo en python 2.7.\n",
    "\n",
    "El adecuado funcionamiento del código depende de la instalación de los siguientes paquetes:\n",
    "\n",
    "* __*Selenium*__:  pip install selenium  \n",
    "  * En este caso se utilizó el driver de Chrome,para descargarlo diríjase a https://pypi.python.org/pypi/selenium.\n",
    "  \n",
    "  * __*Chromium-browser*__: sudo apt-get install chromium-browser\n",
    " \n",
    " \n",
    "* __*Subprocess*__:  pip install subprocess  \n",
    "  \n",
    "* __*Xdtool*__:  sudo apt-get install xdotoo\n",
    "\n",
    "* __*Collections*__: pip install collections-extended\n",
    "\n",
    "* __*Unidecode*__:  pip install unidecode  \n",
    "\n",
    "* __* Textblob*__:  pip install -U textblob  \n",
    "\n",
    "* __* Tesseract*__: sudo apt-get install tesseract-ocr\n",
    "\n",
    "* __*NLTK*__:  pip install -U nltk\n",
    "\n",
    "* __*Stop-words*__: pip install stop-words\n",
    "\n",
    "* __*Word Cloud*__ :pip install wordcloud\n",
    "\n",
    "\n",
    "\n",
    "\n",
    "\n",
    "En el código se utilizaron algunos paquetes que no fueron mencionados anteriormente,esto es porque ellos estan incluidos en  la instalación original de python."
   ]
  },
  {
   "cell_type": "markdown",
   "metadata": {},
   "source": [
    "###  Recomendaciones"
   ]
  },
  {
   "cell_type": "markdown",
   "metadata": {},
   "source": [
    "- Se debe tener en cuenta que el código utiliza  web scraping visible y capturas de pantanlla,cuando se ejecuta la celda de __*Obtención de Imágnes de la plataforma*__ no se debe interterrumpir el proceso,ya que esto afectará la obtencion de las imagenes,además se debe procurar poner el cursor en una esquina; para hacer mas eficaz la  lectura del texto de la imagen.  \n"
   ]
  }
 ],
 "metadata": {
  "kernelspec": {
   "display_name": "Python 2",
   "language": "python",
   "name": "python2"
  },
  "language_info": {
   "codemirror_mode": {
    "name": "ipython",
    "version": 2
   },
   "file_extension": ".py",
   "mimetype": "text/x-python",
   "name": "python",
   "nbconvert_exporter": "python",
   "pygments_lexer": "ipython2",
   "version": "2.7.12"
  }
 },
 "nbformat": 4,
 "nbformat_minor": 2
}
